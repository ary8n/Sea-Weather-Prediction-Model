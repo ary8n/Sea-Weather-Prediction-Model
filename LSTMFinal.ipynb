{
  "nbformat": 4,
  "nbformat_minor": 0,
  "metadata": {
    "colab": {
      "provenance": []
    },
    "kernelspec": {
      "name": "python3",
      "display_name": "Python 3"
    },
    "language_info": {
      "name": "python"
    }
  },
  "cells": [
    {
      "cell_type": "code",
      "source": [
        "import pandas as pd\n",
        "\n",
        "for file in all_files:\n",
        "    try:\n",
        "        df = pd.read_csv(file, delimiter=\",\", encoding=\"utf-8\", on_bad_lines=\"skip\")\n",
        "        print(f\"✅ Loaded {file} successfully! Shape: {df.shape}\")\n",
        "    except Exception as e:\n",
        "        print(f\"❌ Error loading {file}: {e}\")\n"
      ],
      "metadata": {
        "colab": {
          "base_uri": "https://localhost:8080/"
        },
        "id": "1c7abgriKujc",
        "outputId": "89ee8786-0d52-41e7-a76f-fbf38a35a8af"
      },
      "execution_count": null,
      "outputs": [
        {
          "output_type": "stream",
          "name": "stdout",
          "text": [
            "✅ Loaded /content/drive/MyDrive/OceansLSTM/surface_height.csv successfully! Shape: (7, 1)\n",
            "✅ Loaded /content/drive/MyDrive/OceansLSTM/zonal current.csv successfully! Shape: (8, 1)\n",
            "✅ Loaded /content/drive/MyDrive/OceansLSTM/vertical velocity at t points.csv successfully! Shape: (8, 1)\n",
            "✅ Loaded /content/drive/MyDrive/OceansLSTM/sea surface temperature.csv successfully! Shape: (7, 1)\n",
            "✅ Loaded /content/drive/MyDrive/OceansLSTM/dry blub temperature.csv successfully! Shape: (8, 1)\n",
            "✅ Loaded /content/drive/MyDrive/OceansLSTM/potential temperature.csv successfully! Shape: (8, 1)\n",
            "✅ Loaded /content/drive/MyDrive/OceansLSTM/surface heigh.csv successfully! Shape: (7, 1)\n",
            "✅ Loaded /content/drive/MyDrive/OceansLSTM/salinity.csv successfully! Shape: (8, 1)\n",
            "✅ Loaded /content/drive/MyDrive/OceansLSTM/surface height on  t cell.csv successfully! Shape: (7, 1)\n"
          ]
        }
      ]
    },
    {
      "cell_type": "code",
      "source": [
        "import pandas as pd\n",
        "import numpy as np\n",
        "\n",
        "\n",
        "pd.set_option('display.float_format', '{:.13f}'.format)\n",
        "\n",
        "\n",
        "file_paths = [\n",
        "    \"/content/drive/MyDrive/OceansLSTM/surface_height.csv\",\n",
        "    \"/content/drive/MyDrive/OceansLSTM/zonal current.csv\",\n",
        "    \"/content/drive/MyDrive/OceansLSTM/vertical velocity at t points.csv\",\n",
        "    \"/content/drive/MyDrive/OceansLSTM/sea surface temperature.csv\",\n",
        "    \"/content/drive/MyDrive/OceansLSTM/dry blub temperature.csv\",\n",
        "    \"/content/drive/MyDrive/OceansLSTM/potential temperature.csv\",\n",
        "    \"/content/drive/MyDrive/OceansLSTM/surface heigh.csv\",\n",
        "    \"/content/drive/MyDrive/OceansLSTM/salinity.csv\",\n",
        "    \"/content/drive/MyDrive/OceansLSTM/surface height on  t cell.csv\",\n",
        "]\n",
        "\n",
        "\n",
        "dfs = {}\n",
        "\n",
        "for file in file_paths:\n",
        "    try:\n",
        "\n",
        "        file_name = file.split(\"/\")[-1].replace(\".csv\", \"\").replace(\" \", \"_\")\n",
        "\n",
        "\n",
        "        df = pd.read_csv(file, skiprows=14, header=None, sep=None, engine='python')\n",
        "\n",
        "\n",
        "        df.replace(['-999', '99999', 'NaN', 'Err', 'error', 'inf', '-inf', ''], np.nan, inplace=True)\n",
        "\n",
        "\n",
        "        if df.shape[1] == 6:\n",
        "            df.columns = ['DATETIME', 'TIME', 'LON', 'LAT', 'DEP', file_name]\n",
        "            df.drop(['DATETIME', 'DEP'], axis=1, inplace=True)\n",
        "        elif df.shape[1] == 5:\n",
        "            df.columns = ['DATETIME', 'TIME', 'LON', 'LAT', file_name]\n",
        "            df.drop(['DATETIME'], axis=1, inplace=True)\n",
        "        else:\n",
        "            print(f\"⚠️ Skipping {file} due to unexpected format.\")\n",
        "            continue\n",
        "\n",
        "\n",
        "        dfs[file] = df\n",
        "        print(f\"✅ Loaded {file} | Shape: {df.shape}\")\n",
        "\n",
        "    except Exception as e:\n",
        "        print(f\"❌ Error loading {file}: {e}\")\n",
        "\n",
        "\n",
        "merged_df = None\n",
        "for file, df in dfs.items():\n",
        "    if merged_df is None:\n",
        "        merged_df = df  # First dataset\n",
        "    else:\n",
        "        merged_df = pd.merge(merged_df, df, on=['TIME', 'LON', 'LAT'], how='outer')\n",
        "\n",
        "\n",
        "error_values = [-9999999999999999455752309870428160.0000000000000, -999999.0, -9999.0]\n",
        "\n",
        "\n",
        "merged_df.replace(error_values, np.nan, inplace=True)\n",
        "\n",
        "\n",
        "merged_df = merged_df.bfill().ffill().interpolate()\n",
        "\n",
        "\n",
        "\n",
        "merged_df = merged_df.bfill().ffill().interpolate()\n",
        "\n",
        "\n",
        "print(merged_df.head())\n",
        "print(f\"✅ Final merged dataset shape: {merged_df.shape}\")\n"
      ],
      "metadata": {
        "colab": {
          "base_uri": "https://localhost:8080/"
        },
        "id": "6Db6y3IPOOPO",
        "outputId": "2ecc5424-f846-402f-d8c0-41763db71bae"
      },
      "execution_count": null,
      "outputs": [
        {
          "output_type": "stream",
          "name": "stdout",
          "text": [
            "✅ Loaded /content/drive/MyDrive/OceansLSTM/surface_height.csv | Shape: (20379, 4)\n",
            "✅ Loaded /content/drive/MyDrive/OceansLSTM/zonal current.csv | Shape: (17468, 4)\n",
            "✅ Loaded /content/drive/MyDrive/OceansLSTM/vertical velocity at t points.csv | Shape: (17468, 4)\n",
            "✅ Loaded /content/drive/MyDrive/OceansLSTM/sea surface temperature.csv | Shape: (20379, 4)\n",
            "✅ Loaded /content/drive/MyDrive/OceansLSTM/dry blub temperature.csv | Shape: (140, 4)\n",
            "✅ Loaded /content/drive/MyDrive/OceansLSTM/potential temperature.csv | Shape: (17468, 4)\n",
            "✅ Loaded /content/drive/MyDrive/OceansLSTM/surface heigh.csv | Shape: (20379, 4)\n",
            "✅ Loaded /content/drive/MyDrive/OceansLSTM/salinity.csv | Shape: (17468, 4)\n",
            "✅ Loaded /content/drive/MyDrive/OceansLSTM/surface height on  t cell.csv | Shape: (17467, 4)\n",
            "               TIME              LON              LAT   surface_height  \\\n",
            "0 374.2420000000000 81.5000000000000 17.5000000000000 10.7213000000000   \n",
            "1 374.2420000000000 81.5000000000000 18.5000000000000 10.7213000000000   \n",
            "2 374.2420000000000 82.5000000000000 16.5000000000000 10.7213000000000   \n",
            "3 374.2420000000000 82.5000000000000 17.5000000000000 10.7213000000000   \n",
            "4 374.2420000000000 82.5000000000000 18.5000000000000 10.7213000000000   \n",
            "\n",
            "     zonal_current  vertical_velocity_at_t_points  sea_surface_temperature  \\\n",
            "0 -0.0345528000000               -0.0000039097800         26.6936000000000   \n",
            "1 -0.0345528000000               -0.0000039097800         26.6936000000000   \n",
            "2 -0.0345528000000               -0.0000039097800         26.6936000000000   \n",
            "3 -0.0345528000000               -0.0000039097800         26.6936000000000   \n",
            "4 -0.0345528000000               -0.0000039097800         26.6936000000000   \n",
            "\n",
            "   dry_blub_temperature  potential_temperature    surface_heigh  \\\n",
            "0       0.0000000000000       26.6936000000000 10.7213000000000   \n",
            "1       0.0000000000000       26.6936000000000 10.7213000000000   \n",
            "2       0.0000000000000       26.6936000000000 10.7213000000000   \n",
            "3       0.0000000000000       26.6936000000000 10.7213000000000   \n",
            "4       0.0000000000000       26.6936000000000 10.7213000000000   \n",
            "\n",
            "          salinity  surface_height_on__t_cell  \n",
            "0 27.5988000000000            0.7213450000000  \n",
            "1 27.5988000000000            0.7213450000000  \n",
            "2 27.5988000000000            0.7213450000000  \n",
            "3 27.5988000000000            0.7213450000000  \n",
            "4 27.5988000000000            0.7213450000000  \n",
            "✅ Final merged dataset shape: (75834, 12)\n"
          ]
        }
      ]
    },
    {
      "cell_type": "code",
      "source": [
        "merged_df.to_csv('/content/merged_dataset.csv', index=False)\n"
      ],
      "metadata": {
        "id": "syJHnyYePxsv"
      },
      "execution_count": null,
      "outputs": []
    },
    {
      "cell_type": "code",
      "source": [
        "from google.colab import files\n",
        "files.download('/content/merged_dataset.csv')\n"
      ],
      "metadata": {
        "colab": {
          "base_uri": "https://localhost:8080/",
          "height": 17
        },
        "id": "a_MGJS0hP160",
        "outputId": "407a5876-94df-445e-af1e-2952843f6b30"
      },
      "execution_count": null,
      "outputs": [
        {
          "output_type": "display_data",
          "data": {
            "text/plain": [
              "<IPython.core.display.Javascript object>"
            ],
            "application/javascript": [
              "\n",
              "    async function download(id, filename, size) {\n",
              "      if (!google.colab.kernel.accessAllowed) {\n",
              "        return;\n",
              "      }\n",
              "      const div = document.createElement('div');\n",
              "      const label = document.createElement('label');\n",
              "      label.textContent = `Downloading \"${filename}\": `;\n",
              "      div.appendChild(label);\n",
              "      const progress = document.createElement('progress');\n",
              "      progress.max = size;\n",
              "      div.appendChild(progress);\n",
              "      document.body.appendChild(div);\n",
              "\n",
              "      const buffers = [];\n",
              "      let downloaded = 0;\n",
              "\n",
              "      const channel = await google.colab.kernel.comms.open(id);\n",
              "      // Send a message to notify the kernel that we're ready.\n",
              "      channel.send({})\n",
              "\n",
              "      for await (const message of channel.messages) {\n",
              "        // Send a message to notify the kernel that we're ready.\n",
              "        channel.send({})\n",
              "        if (message.buffers) {\n",
              "          for (const buffer of message.buffers) {\n",
              "            buffers.push(buffer);\n",
              "            downloaded += buffer.byteLength;\n",
              "            progress.value = downloaded;\n",
              "          }\n",
              "        }\n",
              "      }\n",
              "      const blob = new Blob(buffers, {type: 'application/binary'});\n",
              "      const a = document.createElement('a');\n",
              "      a.href = window.URL.createObjectURL(blob);\n",
              "      a.download = filename;\n",
              "      div.appendChild(a);\n",
              "      a.click();\n",
              "      div.remove();\n",
              "    }\n",
              "  "
            ]
          },
          "metadata": {}
        },
        {
          "output_type": "display_data",
          "data": {
            "text/plain": [
              "<IPython.core.display.Javascript object>"
            ],
            "application/javascript": [
              "download(\"download_c45acfb6-994a-4c22-ad38-42289c139859\", \"merged_dataset.csv\", 7384509)"
            ]
          },
          "metadata": {}
        }
      ]
    },
    {
      "cell_type": "code",
      "source": [
        "import pandas as pd\n",
        "import numpy as np\n",
        "from sklearn.preprocessing import MinMaxScaler\n",
        "import tensorflow as tf\n",
        "from tensorflow.keras.models import Sequential\n",
        "from tensorflow.keras.layers import LSTM, Dense\n",
        "\n",
        "\n",
        "df = pd.read_csv(\"/content/merged_dataset.csv\")\n",
        "\n",
        "\n",
        "scaler = MinMaxScaler()\n",
        "df.iloc[:, 3:] = scaler.fit_transform(df.iloc[:, 3:])\n",
        "\n",
        "\n",
        "sequence_length = 10\n",
        "features = df.iloc[:, 3:].values\n",
        "\n",
        "X, y = [], []\n",
        "for i in range(len(features) - sequence_length):\n",
        "    X.append(features[i:i + sequence_length])\n",
        "    y.append(features[i + sequence_length])\n",
        "\n",
        "X, y = np.array(X), np.array(y)\n",
        "\n",
        "\n",
        "model = Sequential([\n",
        "    LSTM(50, return_sequences=True, input_shape=(sequence_length, X.shape[2])),\n",
        "    LSTM(50, return_sequences=False),\n",
        "    Dense(X.shape[2])\n",
        "])\n",
        "\n",
        "model.compile(optimizer='adam', loss='mse')\n",
        "\n",
        "\n",
        "model.fit(X, y, epochs=10, batch_size=32, validation_split=0.1)\n",
        "\n",
        "\n",
        "model.save(\"/mnt/data/lstm_model.h5\")\n"
      ],
      "metadata": {
        "colab": {
          "base_uri": "https://localhost:8080/"
        },
        "id": "_JsrIvowRjJt",
        "outputId": "00f3acb5-7e17-47fa-a701-5abd5b6148e9"
      },
      "execution_count": null,
      "outputs": [
        {
          "output_type": "stream",
          "name": "stderr",
          "text": [
            "/usr/local/lib/python3.11/dist-packages/keras/src/layers/rnn/rnn.py:200: UserWarning: Do not pass an `input_shape`/`input_dim` argument to a layer. When using Sequential models, prefer using an `Input(shape)` object as the first layer in the model instead.\n",
            "  super().__init__(**kwargs)\n"
          ]
        },
        {
          "output_type": "stream",
          "name": "stdout",
          "text": [
            "Epoch 1/10\n",
            "\u001b[1m2133/2133\u001b[0m \u001b[32m━━━━━━━━━━━━━━━━━━━━\u001b[0m\u001b[37m\u001b[0m \u001b[1m38s\u001b[0m 16ms/step - loss: 0.0098 - val_loss: 0.0011\n",
            "Epoch 2/10\n",
            "\u001b[1m2133/2133\u001b[0m \u001b[32m━━━━━━━━━━━━━━━━━━━━\u001b[0m\u001b[37m\u001b[0m \u001b[1m38s\u001b[0m 14ms/step - loss: 0.0018 - val_loss: 6.9951e-04\n",
            "Epoch 3/10\n",
            "\u001b[1m2133/2133\u001b[0m \u001b[32m━━━━━━━━━━━━━━━━━━━━\u001b[0m\u001b[37m\u001b[0m \u001b[1m32s\u001b[0m 15ms/step - loss: 0.0013 - val_loss: 6.0551e-04\n",
            "Epoch 4/10\n",
            "\u001b[1m2133/2133\u001b[0m \u001b[32m━━━━━━━━━━━━━━━━━━━━\u001b[0m\u001b[37m\u001b[0m \u001b[1m40s\u001b[0m 14ms/step - loss: 0.0011 - val_loss: 5.8710e-04\n",
            "Epoch 5/10\n",
            "\u001b[1m2133/2133\u001b[0m \u001b[32m━━━━━━━━━━━━━━━━━━━━\u001b[0m\u001b[37m\u001b[0m \u001b[1m30s\u001b[0m 14ms/step - loss: 9.8413e-04 - val_loss: 5.3807e-04\n",
            "Epoch 6/10\n",
            "\u001b[1m2133/2133\u001b[0m \u001b[32m━━━━━━━━━━━━━━━━━━━━\u001b[0m\u001b[37m\u001b[0m \u001b[1m30s\u001b[0m 14ms/step - loss: 8.9101e-04 - val_loss: 5.3231e-04\n",
            "Epoch 7/10\n",
            "\u001b[1m2133/2133\u001b[0m \u001b[32m━━━━━━━━━━━━━━━━━━━━\u001b[0m\u001b[37m\u001b[0m \u001b[1m31s\u001b[0m 15ms/step - loss: 8.2082e-04 - val_loss: 4.6682e-04\n",
            "Epoch 8/10\n",
            "\u001b[1m2133/2133\u001b[0m \u001b[32m━━━━━━━━━━━━━━━━━━━━\u001b[0m\u001b[37m\u001b[0m \u001b[1m31s\u001b[0m 15ms/step - loss: 7.5902e-04 - val_loss: 4.3036e-04\n",
            "Epoch 9/10\n",
            "\u001b[1m2133/2133\u001b[0m \u001b[32m━━━━━━━━━━━━━━━━━━━━\u001b[0m\u001b[37m\u001b[0m \u001b[1m42s\u001b[0m 15ms/step - loss: 7.1782e-04 - val_loss: 5.8915e-04\n",
            "Epoch 10/10\n",
            "\u001b[1m2133/2133\u001b[0m \u001b[32m━━━━━━━━━━━━━━━━━━━━\u001b[0m\u001b[37m\u001b[0m \u001b[1m39s\u001b[0m 14ms/step - loss: 6.8223e-04 - val_loss: 4.7153e-04\n"
          ]
        },
        {
          "output_type": "stream",
          "name": "stderr",
          "text": [
            "WARNING:absl:You are saving your model as an HDF5 file via `model.save()` or `keras.saving.save_model(model)`. This file format is considered legacy. We recommend using instead the native Keras format, e.g. `model.save('my_model.keras')` or `keras.saving.save_model(model, 'my_model.keras')`. \n"
          ]
        }
      ]
    },
    {
      "cell_type": "code",
      "source": [
        "model.save(\"my_model.keras\")"
      ],
      "metadata": {
        "id": "Gx7JGFeYT46N"
      },
      "execution_count": null,
      "outputs": []
    },
    {
      "cell_type": "code",
      "source": [
        "\n",
        "num_samples, timesteps, num_features = X_train.shape\n",
        "X_train_reshaped = X_train.reshape(-1, num_features)\n",
        "X_test_reshaped = X_test.reshape(-1, num_features)\n",
        "\n",
        "\n",
        "scaler = MinMaxScaler()\n",
        "X_train_scaled = scaler.fit_transform(X_train_reshaped)\n",
        "X_test_scaled = scaler.transform(X_test_reshaped)\n",
        "\n",
        "\n",
        "X_train_scaled = X_train_scaled.reshape(num_samples, timesteps, num_features)\n",
        "X_test_scaled = X_test_scaled.reshape(X_test.shape)\n"
      ],
      "metadata": {
        "id": "zOQ-ioi_UvoX"
      },
      "execution_count": null,
      "outputs": []
    },
    {
      "cell_type": "code",
      "source": [
        "y_pred_scaled = model.predict(X_test_scaled)\n"
      ],
      "metadata": {
        "colab": {
          "base_uri": "https://localhost:8080/"
        },
        "id": "huuNgfHPVO-5",
        "outputId": "99a8be6f-478a-4436-faff-8a294a1ba69f"
      },
      "execution_count": null,
      "outputs": [
        {
          "output_type": "stream",
          "name": "stdout",
          "text": [
            "\u001b[1m474/474\u001b[0m \u001b[32m━━━━━━━━━━━━━━━━━━━━\u001b[0m\u001b[37m\u001b[0m \u001b[1m3s\u001b[0m 6ms/step\n"
          ]
        }
      ]
    },
    {
      "cell_type": "code",
      "source": [
        "from sklearn.metrics import mean_absolute_error, mean_squared_error, r2_score\n",
        "\n",
        "\n",
        "if 'scaler' in globals():\n",
        "    y_pred = scaler.inverse_transform(y_pred_scaled)\n",
        "    y_test_original = scaler.inverse_transform(y_test)\n",
        "else:\n",
        "    y_pred = y_pred_scaled\n",
        "    y_test_original = y_test\n",
        "\n",
        "\n",
        "mae = mean_absolute_error(y_test_original, y_pred)\n",
        "mse = mean_squared_error(y_test_original, y_pred)\n",
        "r2 = r2_score(y_test_original, y_pred)\n",
        "\n",
        "print(f\"MAE: {mae}\")\n",
        "print(f\"MSE: {mse}\")\n",
        "print(f\"R² Score: {r2}\")\n"
      ],
      "metadata": {
        "colab": {
          "base_uri": "https://localhost:8080/"
        },
        "id": "JzQjLKgsVYdH",
        "outputId": "8bb47b98-8c6b-4f91-8b23-4b21b9acc218"
      },
      "execution_count": null,
      "outputs": [
        {
          "output_type": "stream",
          "name": "stdout",
          "text": [
            "MAE: 0.014577763117104493\n",
            "MSE: 0.0007072556647214549\n",
            "R² Score: 0.8645059929350191\n"
          ]
        }
      ]
    },
    {
      "cell_type": "code",
      "source": [
        "print(df.head)"
      ],
      "metadata": {
        "colab": {
          "base_uri": "https://localhost:8080/"
        },
        "id": "cGlSjflAXcmT",
        "outputId": "e4f099ec-ce84-427f-a9c0-3cf1fe1e7f01"
      },
      "execution_count": null,
      "outputs": [
        {
          "output_type": "stream",
          "name": "stdout",
          "text": [
            "<bound method NDFrame.head of                      TIME              LON              LAT  surface_height  \\\n",
            "0       374.2420000000000 81.5000000000000 17.5000000000000 0.6774252704933   \n",
            "1       374.2420000000000 81.5000000000000 18.5000000000000 0.6774252704933   \n",
            "2       374.2420000000000 82.5000000000000 16.5000000000000 0.6774252704933   \n",
            "3       374.2420000000000 82.5000000000000 17.5000000000000 0.6774252704933   \n",
            "4       374.2420000000000 82.5000000000000 18.5000000000000 0.6774252704933   \n",
            "...                   ...              ...              ...             ...   \n",
            "75829 44557.5000000000000 84.0844000000000 17.0027000000000 0.5870163212910   \n",
            "75830 44557.5000000000000 84.0844000000000 17.3568000000000 0.5870163212910   \n",
            "75831 44557.5000000000000 84.0844000000000 17.7178000000000 0.5870163212910   \n",
            "75832 44557.5000000000000 84.0844000000000 18.0858000000000 0.5870163212910   \n",
            "75833 44557.5000000000000 84.0844000000000 18.4608000000000 0.5870163212910   \n",
            "\n",
            "        zonal_current  vertical_velocity_at_t_points  sea_surface_temperature  \\\n",
            "0     0.4997920248266                0.3873613955120          0.2465871103890   \n",
            "1     0.4997920248266                0.3873613955120          0.2465871103890   \n",
            "2     0.4997920248266                0.3873613955120          0.2465871103890   \n",
            "3     0.4997920248266                0.3873613955120          0.2465871103890   \n",
            "4     0.4997920248266                0.3873613955120          0.2465871103890   \n",
            "...               ...                            ...                      ...   \n",
            "75829 0.4700330343597                0.4171826413842          0.3256204829402   \n",
            "75830 0.4700330343597                0.4171826413842          0.3070760266682   \n",
            "75831 0.4700330343597                0.4171826413842          0.2817338039479   \n",
            "75832 0.4700330343597                0.4171826413842          0.2543559863298   \n",
            "75833 0.4700330343597                0.4171826413842          0.2348217453826   \n",
            "\n",
            "       dry_blub_temperature  potential_temperature   surface_heigh  \\\n",
            "0           0.0000000000000        0.2340712332928 0.6774252704933   \n",
            "1           0.0000000000000        0.2340712332928 0.6774252704933   \n",
            "2           0.0000000000000        0.2340712332928 0.6774252704933   \n",
            "3           0.0000000000000        0.2340712332928 0.6774252704933   \n",
            "4           0.0000000000000        0.2340712332928 0.6774252704933   \n",
            "...                     ...                    ...             ...   \n",
            "75829       0.0000000000000        0.1998405224787 0.5120117366587   \n",
            "75830       0.0000000000000        0.1998405224787 0.5466715569411   \n",
            "75831       0.0000000000000        0.1998405224787 0.5644599303136   \n",
            "75832       0.0000000000000        0.1998405224787 0.5899504859710   \n",
            "75833       0.0000000000000        0.1998405224787 0.5870163212910   \n",
            "\n",
            "             salinity  surface_height_on__t_cell  \n",
            "0     0.2632004582673            0.6745023644053  \n",
            "1     0.2632004582673            0.6745023644053  \n",
            "2     0.2632004582673            0.6745023644053  \n",
            "3     0.2632004582673            0.6745023644053  \n",
            "4     0.2632004582673            0.6745023644053  \n",
            "...               ...                        ...  \n",
            "75829 0.4889195898058            0.5937590805193  \n",
            "75830 0.4889195898058            0.5937590805193  \n",
            "75831 0.4889195898058            0.5937590805193  \n",
            "75832 0.4889195898058            0.5937590805193  \n",
            "75833 0.4889195898058            0.5937590805193  \n",
            "\n",
            "[75834 rows x 12 columns]>\n"
          ]
        }
      ]
    },
    {
      "cell_type": "code",
      "source": [
        "import numpy as np\n",
        "import pandas as pd\n",
        "import matplotlib.pyplot as plt\n",
        "from sklearn.model_selection import train_test_split, TimeSeriesSplit\n",
        "from sklearn.metrics import mean_absolute_error, mean_squared_error, r2_score\n",
        "from sklearn.preprocessing import MinMaxScaler\n",
        "from tensorflow.keras.models import Sequential\n",
        "from tensorflow.keras.layers import LSTM, Dense\n",
        "\n",
        "# Assuming df is already loaded and preprocessed\n",
        "df = pd.read_csv('/content/drive/MyDrive/OceansLSTM/processed_dataset.csv')\n",
        "\n",
        "\n",
        "# Scaling the features\n",
        "scaler = MinMaxScaler()\n",
        "df.iloc[:, 3:] = scaler.fit_transform(df.iloc[:, 3:])\n",
        "\n",
        "sequence_length = 10\n",
        "features = df.iloc[:, 3:].values\n",
        "\n",
        "X, y = [], []\n",
        "for i in range(len(features) - sequence_length):\n",
        "    X.append(features[i:i + sequence_length])\n",
        "    y.append(features[i + sequence_length])\n",
        "\n",
        "X, y = np.array(X), np.array(y)\n",
        "\n",
        "# Step 1: Split Data into Train, Validation, Test\n",
        "X_train, X_temp, y_train, y_temp = train_test_split(X, y, test_size=0.2, shuffle=False)  # Time series data, no shuffle\n",
        "X_val, X_test, y_val, y_test = train_test_split(X_temp, y_temp, test_size=0.5, shuffle=False)\n",
        "\n",
        "# Step 2: Model Training with Validation\n",
        "model = Sequential([\n",
        "    LSTM(50, return_sequences=True, input_shape=(X_train.shape[1], X_train.shape[2])),\n",
        "    LSTM(50, return_sequences=False),\n",
        "    Dense(X_train.shape[2])\n",
        "])\n",
        "\n",
        "model.compile(optimizer='adam', loss='mse')\n",
        "\n",
        "# Store history for plotting learning curves\n",
        "history = model.fit(X_train, y_train, epochs=50, batch_size=32, validation_data=(X_val, y_val), verbose=1)\n",
        "\n",
        "# Step 3: Plot Learning Curves (Training vs Validation Loss)\n",
        "plt.plot(history.history['loss'], label='Training Loss')\n",
        "plt.plot(history.history['val_loss'], label='Validation Loss')\n",
        "plt.xlabel('Epochs')\n",
        "plt.ylabel('Loss')\n",
        "plt.legend()\n",
        "plt.title('Learning Curves (Training vs Validation Loss)')\n",
        "plt.show()\n",
        "\n",
        "# Step 4: Evaluate the Model on the Test Set\n",
        "y_pred_scaled = model.predict(X_test)\n",
        "\n",
        "# Inverse scaling if applicable\n",
        "y_pred = scaler.inverse_transform(y_pred_scaled)\n",
        "y_test_original = scaler.inverse_transform(y_test)\n",
        "\n",
        "# Step 5: Compute Evaluation Metrics\n",
        "mae = mean_absolute_error(y_test_original, y_pred)\n",
        "mse = mean_squared_error(y_test_original, y_pred)\n",
        "r2 = r2_score(y_test_original, y_pred)\n",
        "\n",
        "print(f\"MAE: {mae}\")\n",
        "print(f\"MSE: {mse}\")\n",
        "print(f\"R² Score: {r2}\")\n",
        "\n",
        "# Step 6: Cross-validation using TimeSeriesSplit\n",
        "tscv = TimeSeriesSplit(n_splits=5)\n",
        "\n",
        "# Store cross-validation results\n",
        "cv_mae, cv_mse, cv_r2 = [], [], []\n",
        "for train_idx, val_idx in tscv.split(X):\n",
        "    X_train_cv, X_val_cv = X[train_idx], X[val_idx]\n",
        "    y_train_cv, y_val_cv = y[train_idx], y[val_idx]\n",
        "\n",
        "    model.fit(X_train_cv, y_train_cv, epochs=10, batch_size=32, verbose=0)\n",
        "    y_pred_cv = model.predict(X_val_cv)\n",
        "\n",
        "    # Inverse scaling for evaluation\n",
        "    y_pred_cv = scaler.inverse_transform(y_pred_cv)\n",
        "    y_val_cv = scaler.inverse_transform(y_val_cv)\n",
        "\n",
        "    # Compute metrics for cross-validation fold\n",
        "    cv_mae.append(mean_absolute_error(y_val_cv, y_pred_cv))\n",
        "    cv_mse.append(mean_squared_error(y_val_cv, y_pred_cv))\n",
        "    cv_r2.append(r2_score(y_val_cv, y_pred_cv))\n",
        "\n",
        "# Cross-validation results\n",
        "print(f\"Cross-Validation MAE: {np.mean(cv_mae)}\")\n",
        "print(f\"Cross-Validation MSE: {np.mean(cv_mse)}\")\n",
        "print(f\"Cross-Validation R²: {np.mean(cv_r2)}\")\n"
      ],
      "metadata": {
        "colab": {
          "base_uri": "https://localhost:8080/",
          "height": 1000
        },
        "id": "nGr1FIUD6ySO",
        "outputId": "69826602-66c3-45d3-80cc-11d416f5c52d"
      },
      "execution_count": null,
      "outputs": [
        {
          "metadata": {
            "tags": null
          },
          "name": "stderr",
          "output_type": "stream",
          "text": [
            "/usr/local/lib/python3.11/dist-packages/keras/src/layers/rnn/rnn.py:200: UserWarning: Do not pass an `input_shape`/`input_dim` argument to a layer. When using Sequential models, prefer using an `Input(shape)` object as the first layer in the model instead.\n",
            "  super().__init__(**kwargs)\n"
          ]
        },
        {
          "metadata": {
            "tags": null
          },
          "name": "stdout",
          "output_type": "stream",
          "text": [
            "Epoch 1/50\n",
            "\u001b[1m1896/1896\u001b[0m \u001b[32m━━━━━━━━━━━━━━━━━━━━\u001b[0m\u001b[37m\u001b[0m \u001b[1m29s\u001b[0m 13ms/step - loss: 0.0127 - val_loss: 0.0052\n",
            "Epoch 2/50\n",
            "\u001b[1m1896/1896\u001b[0m \u001b[32m━━━━━━━━━━━━━━━━━━━━\u001b[0m\u001b[37m\u001b[0m \u001b[1m40s\u001b[0m 12ms/step - loss: 0.0029 - val_loss: 0.0035\n",
            "Epoch 3/50\n",
            "\u001b[1m1896/1896\u001b[0m \u001b[32m━━━━━━━━━━━━━━━━━━━━\u001b[0m\u001b[37m\u001b[0m \u001b[1m41s\u001b[0m 12ms/step - loss: 0.0022 - val_loss: 0.0029\n",
            "Epoch 4/50\n",
            "\u001b[1m1896/1896\u001b[0m \u001b[32m━━━━━━━━━━━━━━━━━━━━\u001b[0m\u001b[37m\u001b[0m \u001b[1m43s\u001b[0m 13ms/step - loss: 0.0020 - val_loss: 0.0028\n",
            "Epoch 5/50\n",
            "\u001b[1m1896/1896\u001b[0m \u001b[32m━━━━━━━━━━━━━━━━━━━━\u001b[0m\u001b[37m\u001b[0m \u001b[1m42s\u001b[0m 14ms/step - loss: 0.0019 - val_loss: 0.0027\n",
            "Epoch 6/50\n",
            "\u001b[1m1896/1896\u001b[0m \u001b[32m━━━━━━━━━━━━━━━━━━━━\u001b[0m\u001b[37m\u001b[0m \u001b[1m24s\u001b[0m 13ms/step - loss: 0.0018 - val_loss: 0.0025\n",
            "Epoch 7/50\n",
            "\u001b[1m1896/1896\u001b[0m \u001b[32m━━━━━━━━━━━━━━━━━━━━\u001b[0m\u001b[37m\u001b[0m \u001b[1m41s\u001b[0m 12ms/step - loss: 0.0017 - val_loss: 0.0026\n",
            "Epoch 8/50\n",
            "\u001b[1m1896/1896\u001b[0m \u001b[32m━━━━━━━━━━━━━━━━━━━━\u001b[0m\u001b[37m\u001b[0m \u001b[1m24s\u001b[0m 13ms/step - loss: 0.0016 - val_loss: 0.0024\n",
            "Epoch 9/50\n",
            "\u001b[1m1896/1896\u001b[0m \u001b[32m━━━━━━━━━━━━━━━━━━━━\u001b[0m\u001b[37m\u001b[0m \u001b[1m41s\u001b[0m 13ms/step - loss: 0.0016 - val_loss: 0.0023\n",
            "Epoch 10/50\n",
            "\u001b[1m1896/1896\u001b[0m \u001b[32m━━━━━━━━━━━━━━━━━━━━\u001b[0m\u001b[37m\u001b[0m \u001b[1m41s\u001b[0m 13ms/step - loss: 0.0015 - val_loss: 0.0023\n",
            "Epoch 11/50\n",
            "\u001b[1m1896/1896\u001b[0m \u001b[32m━━━━━━━━━━━━━━━━━━━━\u001b[0m\u001b[37m\u001b[0m \u001b[1m41s\u001b[0m 13ms/step - loss: 0.0015 - val_loss: 0.0026\n",
            "Epoch 12/50\n",
            "\u001b[1m1896/1896\u001b[0m \u001b[32m━━━━━━━━━━━━━━━━━━━━\u001b[0m\u001b[37m\u001b[0m \u001b[1m42s\u001b[0m 13ms/step - loss: 0.0014 - val_loss: 0.0022\n",
            "Epoch 13/50\n",
            "\u001b[1m1896/1896\u001b[0m \u001b[32m━━━━━━━━━━━━━━━━━━━━\u001b[0m\u001b[37m\u001b[0m \u001b[1m42s\u001b[0m 14ms/step - loss: 0.0014 - val_loss: 0.0022\n",
            "Epoch 14/50\n",
            "\u001b[1m1896/1896\u001b[0m \u001b[32m━━━━━━━━━━━━━━━━━━━━\u001b[0m\u001b[37m\u001b[0m \u001b[1m40s\u001b[0m 13ms/step - loss: 0.0013 - val_loss: 0.0022\n",
            "Epoch 15/50\n",
            "\u001b[1m1896/1896\u001b[0m \u001b[32m━━━━━━━━━━━━━━━━━━━━\u001b[0m\u001b[37m\u001b[0m \u001b[1m43s\u001b[0m 14ms/step - loss: 0.0013 - val_loss: 0.0020\n",
            "Epoch 16/50\n",
            "\u001b[1m1896/1896\u001b[0m \u001b[32m━━━━━━━━━━━━━━━━━━━━\u001b[0m\u001b[37m\u001b[0m \u001b[1m24s\u001b[0m 13ms/step - loss: 0.0012 - val_loss: 0.0020\n",
            "Epoch 17/50\n",
            "\u001b[1m1896/1896\u001b[0m \u001b[32m━━━━━━━━━━━━━━━━━━━━\u001b[0m\u001b[37m\u001b[0m \u001b[1m42s\u001b[0m 13ms/step - loss: 0.0012 - val_loss: 0.0021\n",
            "Epoch 18/50\n",
            "\u001b[1m1896/1896\u001b[0m \u001b[32m━━━━━━━━━━━━━━━━━━━━\u001b[0m\u001b[37m\u001b[0m \u001b[1m41s\u001b[0m 13ms/step - loss: 0.0011 - val_loss: 0.0019\n",
            "Epoch 19/50\n",
            "\u001b[1m1896/1896\u001b[0m \u001b[32m━━━━━━━━━━━━━━━━━━━━\u001b[0m\u001b[37m\u001b[0m \u001b[1m42s\u001b[0m 13ms/step - loss: 0.0011 - val_loss: 0.0019\n",
            "Epoch 20/50\n",
            "\u001b[1m1896/1896\u001b[0m \u001b[32m━━━━━━━━━━━━━━━━━━━━\u001b[0m\u001b[37m\u001b[0m \u001b[1m23s\u001b[0m 12ms/step - loss: 0.0011 - val_loss: 0.0020\n",
            "Epoch 21/50\n",
            "\u001b[1m1896/1896\u001b[0m \u001b[32m━━━━━━━━━━━━━━━━━━━━\u001b[0m\u001b[37m\u001b[0m \u001b[1m41s\u001b[0m 12ms/step - loss: 0.0011 - val_loss: 0.0019\n",
            "Epoch 22/50\n",
            "\u001b[1m1896/1896\u001b[0m \u001b[32m━━━━━━━━━━━━━━━━━━━━\u001b[0m\u001b[37m\u001b[0m \u001b[1m41s\u001b[0m 13ms/step - loss: 0.0011 - val_loss: 0.0020\n",
            "Epoch 23/50\n",
            "\u001b[1m1896/1896\u001b[0m \u001b[32m━━━━━━━━━━━━━━━━━━━━\u001b[0m\u001b[37m\u001b[0m \u001b[1m42s\u001b[0m 13ms/step - loss: 0.0010 - val_loss: 0.0021\n",
            "Epoch 24/50\n",
            "\u001b[1m1896/1896\u001b[0m \u001b[32m━━━━━━━━━━━━━━━━━━━━\u001b[0m\u001b[37m\u001b[0m \u001b[1m23s\u001b[0m 12ms/step - loss: 0.0010 - val_loss: 0.0020\n",
            "Epoch 25/50\n",
            "\u001b[1m1896/1896\u001b[0m \u001b[32m━━━━━━━━━━━━━━━━━━━━\u001b[0m\u001b[37m\u001b[0m \u001b[1m41s\u001b[0m 12ms/step - loss: 9.8720e-04 - val_loss: 0.0019\n",
            "Epoch 26/50\n",
            "\u001b[1m1896/1896\u001b[0m \u001b[32m━━━━━━━━━━━━━━━━━━━━\u001b[0m\u001b[37m\u001b[0m \u001b[1m41s\u001b[0m 13ms/step - loss: 9.5376e-04 - val_loss: 0.0020\n",
            "Epoch 27/50\n",
            "\u001b[1m1896/1896\u001b[0m \u001b[32m━━━━━━━━━━━━━━━━━━━━\u001b[0m\u001b[37m\u001b[0m \u001b[1m41s\u001b[0m 13ms/step - loss: 9.6927e-04 - val_loss: 0.0022\n",
            "Epoch 28/50\n",
            "\u001b[1m1896/1896\u001b[0m \u001b[32m━━━━━━━━━━━━━━━━━━━━\u001b[0m\u001b[37m\u001b[0m \u001b[1m41s\u001b[0m 13ms/step - loss: 9.5364e-04 - val_loss: 0.0020\n",
            "Epoch 29/50\n",
            "\u001b[1m1896/1896\u001b[0m \u001b[32m━━━━━━━━━━━━━━━━━━━━\u001b[0m\u001b[37m\u001b[0m \u001b[1m41s\u001b[0m 13ms/step - loss: 9.2644e-04 - val_loss: 0.0020\n",
            "Epoch 30/50\n",
            "\u001b[1m1896/1896\u001b[0m \u001b[32m━━━━━━━━━━━━━━━━━━━━\u001b[0m\u001b[37m\u001b[0m \u001b[1m41s\u001b[0m 13ms/step - loss: 9.0595e-04 - val_loss: 0.0019\n",
            "Epoch 31/50\n",
            "\u001b[1m1896/1896\u001b[0m \u001b[32m━━━━━━━━━━━━━━━━━━━━\u001b[0m\u001b[37m\u001b[0m \u001b[1m42s\u001b[0m 14ms/step - loss: 8.9287e-04 - val_loss: 0.0019\n",
            "Epoch 32/50\n",
            "\u001b[1m1896/1896\u001b[0m \u001b[32m━━━━━━━━━━━━━━━━━━━━\u001b[0m\u001b[37m\u001b[0m \u001b[1m40s\u001b[0m 13ms/step - loss: 9.1273e-04 - val_loss: 0.0019\n",
            "Epoch 33/50\n",
            "\u001b[1m1896/1896\u001b[0m \u001b[32m━━━━━━━━━━━━━━━━━━━━\u001b[0m\u001b[37m\u001b[0m \u001b[1m41s\u001b[0m 13ms/step - loss: 8.4687e-04 - val_loss: 0.0019\n",
            "Epoch 34/50\n",
            "\u001b[1m1896/1896\u001b[0m \u001b[32m━━━━━━━━━━━━━━━━━━━━\u001b[0m\u001b[37m\u001b[0m \u001b[1m23s\u001b[0m 12ms/step - loss: 8.3766e-04 - val_loss: 0.0019\n",
            "Epoch 35/50\n",
            "\u001b[1m1896/1896\u001b[0m \u001b[32m━━━━━━━━━━━━━━━━━━━━\u001b[0m\u001b[37m\u001b[0m \u001b[1m41s\u001b[0m 12ms/step - loss: 8.5044e-04 - val_loss: 0.0018\n",
            "Epoch 36/50\n",
            "\u001b[1m1896/1896\u001b[0m \u001b[32m━━━━━━━━━━━━━━━━━━━━\u001b[0m\u001b[37m\u001b[0m \u001b[1m43s\u001b[0m 13ms/step - loss: 8.2843e-04 - val_loss: 0.0019\n",
            "Epoch 37/50\n",
            "\u001b[1m1896/1896\u001b[0m \u001b[32m━━━━━━━━━━━━━━━━━━━━\u001b[0m\u001b[37m\u001b[0m \u001b[1m40s\u001b[0m 13ms/step - loss: 8.0958e-04 - val_loss: 0.0018\n",
            "Epoch 38/50\n",
            "\u001b[1m1896/1896\u001b[0m \u001b[32m━━━━━━━━━━━━━━━━━━━━\u001b[0m\u001b[37m\u001b[0m \u001b[1m41s\u001b[0m 13ms/step - loss: 7.9347e-04 - val_loss: 0.0019\n",
            "Epoch 39/50\n",
            "\u001b[1m1896/1896\u001b[0m \u001b[32m━━━━━━━━━━━━━━━━━━━━\u001b[0m\u001b[37m\u001b[0m \u001b[1m41s\u001b[0m 13ms/step - loss: 8.0010e-04 - val_loss: 0.0018\n",
            "Epoch 40/50\n",
            "\u001b[1m1896/1896\u001b[0m \u001b[32m━━━━━━━━━━━━━━━━━━━━\u001b[0m\u001b[37m\u001b[0m \u001b[1m23s\u001b[0m 12ms/step - loss: 7.5317e-04 - val_loss: 0.0018\n",
            "Epoch 41/50\n",
            "\u001b[1m1896/1896\u001b[0m \u001b[32m━━━━━━━━━━━━━━━━━━━━\u001b[0m\u001b[37m\u001b[0m \u001b[1m25s\u001b[0m 13ms/step - loss: 7.6192e-04 - val_loss: 0.0018\n",
            "Epoch 42/50\n",
            "\u001b[1m1896/1896\u001b[0m \u001b[32m━━━━━━━━━━━━━━━━━━━━\u001b[0m\u001b[37m\u001b[0m \u001b[1m25s\u001b[0m 13ms/step - loss: 7.4896e-04 - val_loss: 0.0018\n",
            "Epoch 43/50\n",
            "\u001b[1m1896/1896\u001b[0m \u001b[32m━━━━━━━━━━━━━━━━━━━━\u001b[0m\u001b[37m\u001b[0m \u001b[1m23s\u001b[0m 12ms/step - loss: 7.3066e-04 - val_loss: 0.0018\n",
            "Epoch 44/50\n",
            "\u001b[1m1896/1896\u001b[0m \u001b[32m━━━━━━━━━━━━━━━━━━━━\u001b[0m\u001b[37m\u001b[0m \u001b[1m26s\u001b[0m 13ms/step - loss: 7.2794e-04 - val_loss: 0.0019\n",
            "Epoch 45/50\n",
            "\u001b[1m1896/1896\u001b[0m \u001b[32m━━━━━━━━━━━━━━━━━━━━\u001b[0m\u001b[37m\u001b[0m \u001b[1m40s\u001b[0m 13ms/step - loss: 7.4615e-04 - val_loss: 0.0018\n",
            "Epoch 46/50\n",
            "\u001b[1m1896/1896\u001b[0m \u001b[32m━━━━━━━━━━━━━━━━━━━━\u001b[0m\u001b[37m\u001b[0m \u001b[1m25s\u001b[0m 13ms/step - loss: 7.1108e-04 - val_loss: 0.0019\n",
            "Epoch 47/50\n",
            "\u001b[1m1896/1896\u001b[0m \u001b[32m━━━━━━━━━━━━━━━━━━━━\u001b[0m\u001b[37m\u001b[0m \u001b[1m41s\u001b[0m 13ms/step - loss: 6.9396e-04 - val_loss: 0.0019\n",
            "Epoch 48/50\n",
            "\u001b[1m1896/1896\u001b[0m \u001b[32m━━━━━━━━━━━━━━━━━━━━\u001b[0m\u001b[37m\u001b[0m \u001b[1m41s\u001b[0m 13ms/step - loss: 6.9812e-04 - val_loss: 0.0019\n",
            "Epoch 49/50\n",
            "\u001b[1m1896/1896\u001b[0m \u001b[32m━━━━━━━━━━━━━━━━━━━━\u001b[0m\u001b[37m\u001b[0m \u001b[1m41s\u001b[0m 14ms/step - loss: 7.0930e-04 - val_loss: 0.0018\n",
            "Epoch 50/50\n",
            "\u001b[1m1896/1896\u001b[0m \u001b[32m━━━━━━━━━━━━━━━━━━━━\u001b[0m\u001b[37m\u001b[0m \u001b[1m40s\u001b[0m 13ms/step - loss: 6.5578e-04 - val_loss: 0.0018\n"
          ]
        },
        {
          "data": {
            "image/png": "[encoded data removed]",
            "text/plain": [
              "<Figure size 640x480 with 1 Axes>"
            ]
          },
          "metadata": {},
          "output_type": "display_data"
        },
        {
          "metadata": {
            "tags": null
          },
          "name": "stdout",
          "output_type": "stream",
          "text": [
            "\u001b[1m237/237\u001b[0m \u001b[32m━━━━━━━━━━━━━━━━━━━━\u001b[0m\u001b[37m\u001b[0m \u001b[1m2s\u001b[0m 5ms/step\n",
            "MAE: 0.014829120456637432\n",
            "MSE: 0.0009917209912545884\n",
            "R² Score: 0.7852341525870549\n",
            "\u001b[1m395/395\u001b[0m \u001b[32m━━━━━━━━━━━━━━━━━━━━\u001b[0m\u001b[37m\u001b[0m \u001b[1m1s\u001b[0m 4ms/step\n",
            "\u001b[1m395/395\u001b[0m \u001b[32m━━━━━━━━━━━━━━━━━━━━\u001b[0m\u001b[37m\u001b[0m \u001b[1m1s\u001b[0m 4ms/step\n",
            "\u001b[1m395/395\u001b[0m \u001b[32m━━━━━━━━━━━━━━━━━━━━\u001b[0m\u001b[37m\u001b[0m \u001b[1m1s\u001b[0m 4ms/step\n"
          ]
        }
      ]
    }
  ]
}