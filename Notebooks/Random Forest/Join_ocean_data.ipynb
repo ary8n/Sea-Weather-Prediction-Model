{
  "nbformat": 4,
  "nbformat_minor": 0,
  "metadata": {
    "colab": {
      "provenance": []
    },
    "kernelspec": {
      "name": "python3",
      "display_name": "Python 3"
    },
    "language_info": {
      "name": "python"
    }
  },
  "cells": [
    {
      "cell_type": "code",
      "source": [
        "import pandas as pd\n",
        "\n",
        "pd.set_option('display.float_format', '{:.13f}'.format)\n",
        "\n",
        "vertical_velocity = pd.read_csv('vertical velocity at t points.csv', skiprows = 14, header= None, float_precision='round_trip')\n",
        "surface_height = pd.read_csv('/content/surface height on  t cell.csv', skiprows = 14, header= None)\n",
        "\n",
        "vertical_velocity.columns = ['DATETIME', 'TIME', 'LON', 'LAT', 'DEP','WT']\n",
        "\n",
        "vertical_velocity = vertical_velocity.drop('DATETIME', axis=1)\n",
        "vertical_velocity = vertical_velocity.drop('DEP', axis=1)\n",
        "\n",
        "\n",
        "\n",
        "surface_height.columns = ['DATETIME', 'TIME', 'LON', 'LAT','ETA_T']\n",
        "\n",
        "surface_height = surface_height.drop('DATETIME', axis=1)\n",
        "# surface_height = surface_height.drop('DEP', axis=1)\n",
        "\n",
        "merged_data = pd.merge(\n",
        "    vertical_velocity,\n",
        "    surface_height,\n",
        "    on=['TIME', 'LON', 'LAT'],\n",
        "    how='inner'\n",
        ")\n",
        "\n",
        "print(merged_data.head())\n",
        "\n",
        "print(f\"Shape of merged dataset: {merged_data.shape}\")\n",
        "\n",
        "# from sklearn.preprocessing import MinMaxScaler\n",
        "\n",
        "# scaler = MinMaxScaler()\n",
        "# merged_data['WT_scaled'] = scaler.fit_transform(merged_data[['WT']])\n"
      ],
      "metadata": {
        "colab": {
          "base_uri": "https://localhost:8080/"
        },
        "id": "A2QUSVtdrhC-",
        "outputId": "db3ab1e8-ad3b-4ae9-f5d5-d188e2a0bfa7"
      },
      "execution_count": null,
      "outputs": [
        {
          "output_type": "stream",
          "name": "stdout",
          "text": [
            "                 TIME              LON              LAT               WT  \\\n",
            "0 44194.5000000000000 83.7500000000000 15.9798000000000 -0.0000033528200   \n",
            "1 44194.5000000000000 81.2500000000000 16.3134000000000 -0.0000039097800   \n",
            "2 44194.5000000000000 81.7500000000000 16.3134000000000  0.0000015113600   \n",
            "3 44194.5000000000000 82.2500000000000 16.3134000000000 -0.0000038293300   \n",
            "4 44194.5000000000000 82.7500000000000 16.3134000000000  0.0000016903300   \n",
            "\n",
            "            ETA_T  \n",
            "0 0.6024660000000  \n",
            "1 0.7213450000000  \n",
            "2 0.7160020000000  \n",
            "3 0.6997060000000  \n",
            "4 0.7058900000000  \n",
            "Shape of merged dataset: (17467, 5)\n"
          ]
        }
      ]
    },
    {
      "cell_type": "code",
      "source": [
        "import pandas as pd\n",
        "import numpy as np\n",
        "from sklearn.linear_model import LinearRegression\n",
        "from sklearn.model_selection import train_test_split\n",
        "from sklearn.metrics import mean_squared_error, r2_score\n",
        "\n",
        "\n",
        "merged_data['WT'] = merged_data['WT'].replace(-1.0E+34, np.nan)\n",
        "\n",
        "daily_means = merged_data.groupby('TIME')['WT'].mean()\n",
        "\n",
        "for time, group in merged_data.groupby('TIME'):\n",
        "    merged_data.loc[(merged_data['TIME'] == time) & (merged_data['WT'].isna()), 'WT'] = daily_means[time]\n",
        "\n",
        "\n",
        "\n",
        "merged_data['ETA_T'] = merged_data['ETA_T'].replace(-1.0E+34, np.nan)\n",
        "\n",
        "daily_means = merged_data.groupby('TIME')['ETA_T'].mean()\n",
        "\n",
        "for time, group in merged_data.groupby('TIME'):\n",
        "    merged_data.loc[(merged_data['TIME'] == time) & (merged_data['ETA_T'].isna()), 'ETA_T'] = daily_means[time]\n",
        "\n",
        "\n",
        "print(merged_data)"
      ],
      "metadata": {
        "colab": {
          "base_uri": "https://localhost:8080/"
        },
        "id": "3zlti45StgBK",
        "outputId": "a2c763e9-df28-4969-8ba1-a941c455c444"
      },
      "execution_count": null,
      "outputs": [
        {
          "output_type": "stream",
          "name": "stdout",
          "text": [
            "                     TIME              LON              LAT               WT  \\\n",
            "0     44194.5000000000000 83.7500000000000 15.9798000000000 -0.0000033528200   \n",
            "1     44194.5000000000000 81.2500000000000 16.3134000000000 -0.0000039097800   \n",
            "2     44194.5000000000000 81.7500000000000 16.3134000000000  0.0000015113600   \n",
            "3     44194.5000000000000 82.2500000000000 16.3134000000000 -0.0000038293300   \n",
            "4     44194.5000000000000 82.7500000000000 16.3134000000000  0.0000016903300   \n",
            "...                   ...              ...              ...              ...   \n",
            "17462 44557.5000000000000 81.7500000000000 18.4590000000000 -0.0000008072294   \n",
            "17463 44557.5000000000000 82.2500000000000 18.4590000000000 -0.0000008072294   \n",
            "17464 44557.5000000000000 82.7500000000000 18.4590000000000 -0.0000008072294   \n",
            "17465 44557.5000000000000 83.2500000000000 18.4590000000000 -0.0000008072294   \n",
            "17466 44557.5000000000000 83.7500000000000 18.4590000000000 -0.0000008072294   \n",
            "\n",
            "                ETA_T  \n",
            "0     0.6024660000000  \n",
            "1     0.7213450000000  \n",
            "2     0.7160020000000  \n",
            "3     0.6997060000000  \n",
            "4     0.7058900000000  \n",
            "...               ...  \n",
            "17462 0.6191641250000  \n",
            "17463 0.6191641250000  \n",
            "17464 0.6191641250000  \n",
            "17465 0.6191641250000  \n",
            "17466 0.6191641250000  \n",
            "\n",
            "[17467 rows x 5 columns]\n"
          ]
        }
      ]
    },
    {
      "cell_type": "code",
      "source": [
        "X = merged_data[['TIME', 'LON', 'LAT', 'ETA_T']]\n",
        "y = merged_data['WT']\n",
        "\n",
        "X_train, X_test, y_train, y_test = train_test_split(X, y, test_size=0.2, random_state=42)\n"
      ],
      "metadata": {
        "id": "5doGKI144oDj"
      },
      "execution_count": null,
      "outputs": []
    },
    {
      "cell_type": "code",
      "source": [
        "lr_model = LinearRegression()\n",
        "lr_model.fit(X_train, y_train)\n",
        "\n",
        "y_pred_lr = lr_model.predict(X_test)\n",
        "mse_lr = mean_squared_error(y_test, y_pred_lr)\n",
        "r2_lr = r2_score(y_test, y_pred_lr)\n",
        "\n",
        "print(\"Linear Regression Results:\")\n",
        "print(f\"Mean Squared Error: {mse_lr:.6f}\")\n",
        "print(f\"R² Score: {r2_lr:.6f}\")\n",
        "\n",
        "coefficients = pd.DataFrame({\n",
        "    'Feature': ['TIME', 'LON', 'LAT', 'ETA_T'],\n",
        "    'Coefficient': lr_model.coef_\n",
        "})\n",
        "intercept = lr_model.intercept_\n",
        "\n",
        "print(\"Model Coefficients:\")\n",
        "print(coefficients)\n",
        "print(f\"Intercept: {intercept:.6f}\")\n"
      ],
      "metadata": {
        "colab": {
          "base_uri": "https://localhost:8080/"
        },
        "id": "UvuSQA1U5MYK",
        "outputId": "64cea49e-67b4-4b70-ca9a-531ee38f1e19"
      },
      "execution_count": null,
      "outputs": [
        {
          "output_type": "stream",
          "name": "stdout",
          "text": [
            "Linear Regression Results:\n",
            "Mean Squared Error: 0.000000\n",
            "R² Score: 0.112095\n",
            "Model Coefficients:\n",
            "  Feature      Coefficient\n",
            "0    TIME -0.0000000100124\n",
            "1     LON -0.0000001757412\n",
            "2     LAT  0.0000005161985\n",
            "3   ETA_T -0.0000333515751\n",
            "Intercept: 0.000471\n"
          ]
        }
      ]
    },
    {
      "cell_type": "code",
      "source": [
        "from sklearn.ensemble import RandomForestRegressor\n",
        "from sklearn.model_selection import train_test_split\n",
        "from sklearn.metrics import mean_squared_error, r2_score\n",
        "\n",
        "\n",
        "\n",
        "rf_model = RandomForestRegressor(n_estimators=100, random_state=42)\n",
        "rf_model.fit(X_train, y_train)\n",
        "\n",
        "y_pred_rf = rf_model.predict(X_test)\n",
        "mse_rf = mean_squared_error(y_test, y_pred_rf)\n",
        "r2_rf = r2_score(y_test, y_pred_rf)\n",
        "\n",
        "print(\"\\nRandom Forest Results:\")\n",
        "print(f\"Mean Squared Error: {mse_rf:.15f}\")\n",
        "print(f\"R² Score: {r2_rf:.6f}\")\n",
        "\n",
        "feature_importance = pd.DataFrame({\n",
        "    'Feature': ['TIME', 'LON', 'LAT', 'ETA_T'],\n",
        "    'Importance': rf_model.feature_importances_\n",
        "}).sort_values('Importance', ascending=False)\n",
        "\n",
        "print(\"Feature Importance:\")\n",
        "print(feature_importance)\n"
      ],
      "metadata": {
        "colab": {
          "base_uri": "https://localhost:8080/"
        },
        "id": "YuY3yiVD5oEU",
        "outputId": "d2f93778-8406-490b-eef4-2077eee81af4"
      },
      "execution_count": null,
      "outputs": [
        {
          "output_type": "stream",
          "name": "stdout",
          "text": [
            "\n",
            "Random Forest Results:\n",
            "Mean Squared Error: 0.000000000026821\n",
            "R² Score: 0.679403\n",
            "Feature Importance:\n",
            "  Feature      Importance\n",
            "0    TIME 0.5068006897585\n",
            "3   ETA_T 0.3111899290940\n",
            "2     LAT 0.1031979891585\n",
            "1     LON 0.0788113919890\n"
          ]
        }
      ]
    },
    {
      "cell_type": "code",
      "source": [],
      "metadata": {
        "id": "EZs3IxulByPt"
      },
      "execution_count": null,
      "outputs": []
    }
  ]
}